{
 "cells": [
  {
   "cell_type": "markdown",
   "id": "d19d1c23",
   "metadata": {},
   "source": [
    "## Đọc hình ảnh và split"
   ]
  },
  {
   "cell_type": "code",
   "execution_count": null,
   "id": "dc7737eb",
   "metadata": {},
   "outputs": [],
   "source": [
    "from PIL import Image\n",
    "import os\n",
    "\n",
    "# === Config ===\n",
    "image_path = \"test_images/855_sat_01.jpg\"  # Đường dẫn đến ảnh gốc\n",
    "ROWS = 3\n",
    "COLS = 5\n",
    "\n",
    "def split_image(image_path, rows, cols):\n",
    "    \"\"\"Đọc ảnh và cắt thành rows x cols, trả về danh sách các mảnh.\"\"\"\n",
    "    img = Image.open(image_path)\n",
    "    width, height = img.size\n",
    "\n",
    "    piece_width = width // cols\n",
    "    piece_height = height // rows\n",
    "\n",
    "    pieces = []\n",
    "    for r in range(rows):\n",
    "        for c in range(cols):\n",
    "            left = c * piece_width\n",
    "            upper = r * piece_height\n",
    "            right = left + piece_width\n",
    "            lower = upper + piece_height\n",
    "            piece = img.crop((left, upper, right, lower))\n",
    "            pieces.append(piece)\n",
    "\n",
    "    return pieces\n",
    "\n",
    "if __name__ == \"__main__\":\n",
    "    pieces = split_image(image_path, ROWS, COLS)\n",
    "    \n",
    "    print(f\"Ảnh gốc được cắt thành {len(pieces)} mảnh ({ROWS} x {COLS})\")\n",
    "\n",
    "    # Test: Lưu thử từng mảnh ra folder \"debug_pieces\"\n",
    "    output_dir = \"debug_pieces\"\n",
    "    os.makedirs(output_dir, exist_ok=True)\n",
    "\n",
    "    for idx, piece in enumerate(pieces):\n",
    "        piece_filename = os.path.join(output_dir, f\"piece_{idx}.png\")\n",
    "        piece.save(piece_filename)\n",
    "\n",
    "    print(f\"Các mảnh đã được lưu tại: {output_dir}/\")\n"
   ]
  }
 ],
 "metadata": {
  "language_info": {
   "name": "python"
  }
 },
 "nbformat": 4,
 "nbformat_minor": 5
}
